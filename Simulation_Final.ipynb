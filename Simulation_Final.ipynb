{
 "cells": [
  {
   "cell_type": "code",
   "execution_count": 1,
   "metadata": {},
   "outputs": [],
   "source": [
    "import pandas as pd\n",
    "import numpy as np\n",
    "import random\n",
    "from datetime import datetime  \n",
    "import datetime as dt"
   ]
  },
  {
   "cell_type": "code",
   "execution_count": 2,
   "metadata": {},
   "outputs": [],
   "source": [
    "#Creating \n",
    "Data=pd.read_excel('excel.xlsx')\n",
    "Sup=Data.Supplier_name.tolist()\n",
    "Pro=Data.Raw_name.tolist()"
   ]
  },
  {
   "cell_type": "code",
   "execution_count": 3,
   "metadata": {},
   "outputs": [
    {
     "data": {
      "text/plain": [
       "array([10,  5,  1,  2,  9,  7,  4,  6,  3,  8])"
      ]
     },
     "execution_count": 3,
     "metadata": {},
     "output_type": "execute_result"
    }
   ],
   "source": [
    "#Random Number generation for Product Columns\n",
    "np.random.seed(10)\n",
    "df = pd.DataFrame(np.random.randint(1,11, size=(500,1)), columns=['Product'])\n",
    "df.Product.unique()"
   ]
  },
  {
   "cell_type": "code",
   "execution_count": 4,
   "metadata": {},
   "outputs": [],
   "source": [
    "#Product Supplier Combinations\n",
    "prosup={1:(1,2,3,10),2:(4,5,10),3:(1,5,9,7,8),4:(4,6),5:(1,5,4,7),6:(7,8,9,10),7:(1,2,5),8:(7,3,5),9:(8,2,3),10:(4,8,9)}\n",
    "def suplr(x):\n",
    "    return random.choice(prosup[x])\n",
    "\n",
    "df[\"Product_ID\"]=df['Product']+55321\n",
    "df['Supplier']=df['Product'].map(suplr)\n",
    "df['Supplier_ID']=df['Supplier']+30147"
   ]
  },
  {
   "cell_type": "code",
   "execution_count": 5,
   "metadata": {},
   "outputs": [],
   "source": [
    "#Supplier location Combiantions\n",
    "locn={1:(\"USA\",\"Canada\"),2:('Canada','California','Chaina'),3:('UK','Italy'),4:('US','Canada'),5:['California'],6:('California','Canada'),7:('Australia','UK'),8:('USA','Australia'),9:['UK'],10:['USA']}\n",
    "def location(x):\n",
    "    return random.choice(locn[x])\n"
   ]
  },
  {
   "cell_type": "code",
   "execution_count": 6,
   "metadata": {},
   "outputs": [],
   "source": [
    "#Supplier Currency Combiantions\n",
    "cur={'UK':['EUR'],'Canada':['USD'], 'Italy':['EUR'], 'USA':['USD'], 'US':['USD'], 'California':['USD'], 'Australia':['AUD'],\n",
    "       'Chaina':['CNY']}\n",
    "def currency(x):\n",
    "    return random.choice(cur[x])"
   ]
  },
  {
   "cell_type": "code",
   "execution_count": 7,
   "metadata": {},
   "outputs": [],
   "source": [
    "#Supplier metric Combiantions\n",
    "met={'USD':['Pound'],'EUR':['Pound'],'CNY':['Kilogram'],'AUD':['Kilogram']}\n",
    "def metric(x):\n",
    "    return random.choice(met[x])"
   ]
  },
  {
   "cell_type": "code",
   "execution_count": 8,
   "metadata": {},
   "outputs": [],
   "source": [
    "#Supplier metric Combiantions\n",
    "untprc={55322:(np.random.randint(20,33,size=12)),55323:(np.random.randint(40,50,size=25)),55324:(np.random.randint(2,7,size=16)),55325:(np.random.randint(20,29,size=10)),55326:(np.random.randint(18,25,size=20)),55327:(np.random.randint(100,123,size=20)),55328:(np.random.randint(12,15,size=2)),55329:(np.random.randint(10,23,size=10)),55330:(np.random.randint(7,13,size=21)),55331:(np.random.randint(23,27,size=19))}\n",
    "def price(x):\n",
    "    return random.choice(untprc[x])"
   ]
  },
  {
   "cell_type": "code",
   "execution_count": 9,
   "metadata": {},
   "outputs": [],
   "source": [
    "#Supplier metric Combiantions\n",
    "qnt={55322:(np.random.randint(120,233,size=20)),55323:(np.random.randint(140,250,size=25)),55324:(np.random.randint(232,700,size=36)),55325:(np.random.randint(420,929,size=30)),55326:(np.random.randint(1118,1425,size=20)),55327:(np.random.randint(100,193,size=20)),55328:(np.random.randint(120,150,size=22)),55329:(np.random.randint(100,230,size=110)),55330:(np.random.randint(257,913,size=21)),55331:(np.random.randint(1023,1227,size=50))}\n",
    "def quantity(x):\n",
    "    return random.choice(qnt[x])"
   ]
  },
  {
   "cell_type": "code",
   "execution_count": 10,
   "metadata": {},
   "outputs": [
    {
     "data": {
      "text/html": [
       "<div>\n",
       "<style>\n",
       "    .dataframe thead tr:only-child th {\n",
       "        text-align: right;\n",
       "    }\n",
       "\n",
       "    .dataframe thead th {\n",
       "        text-align: left;\n",
       "    }\n",
       "\n",
       "    .dataframe tbody tr th {\n",
       "        vertical-align: top;\n",
       "    }\n",
       "</style>\n",
       "<table border=\"1\" class=\"dataframe\">\n",
       "  <thead>\n",
       "    <tr style=\"text-align: right;\">\n",
       "      <th></th>\n",
       "      <th>Product</th>\n",
       "      <th>Product_ID</th>\n",
       "      <th>Supplier</th>\n",
       "      <th>Supplier_ID</th>\n",
       "    </tr>\n",
       "  </thead>\n",
       "  <tbody>\n",
       "    <tr>\n",
       "      <th>0</th>\n",
       "      <td>10</td>\n",
       "      <td>55331</td>\n",
       "      <td>9</td>\n",
       "      <td>30156</td>\n",
       "    </tr>\n",
       "    <tr>\n",
       "      <th>1</th>\n",
       "      <td>5</td>\n",
       "      <td>55326</td>\n",
       "      <td>1</td>\n",
       "      <td>30148</td>\n",
       "    </tr>\n",
       "    <tr>\n",
       "      <th>2</th>\n",
       "      <td>1</td>\n",
       "      <td>55322</td>\n",
       "      <td>10</td>\n",
       "      <td>30157</td>\n",
       "    </tr>\n",
       "    <tr>\n",
       "      <th>3</th>\n",
       "      <td>2</td>\n",
       "      <td>55323</td>\n",
       "      <td>4</td>\n",
       "      <td>30151</td>\n",
       "    </tr>\n",
       "    <tr>\n",
       "      <th>4</th>\n",
       "      <td>10</td>\n",
       "      <td>55331</td>\n",
       "      <td>4</td>\n",
       "      <td>30151</td>\n",
       "    </tr>\n",
       "  </tbody>\n",
       "</table>\n",
       "</div>"
      ],
      "text/plain": [
       "   Product  Product_ID  Supplier  Supplier_ID\n",
       "0       10       55331         9        30156\n",
       "1        5       55326         1        30148\n",
       "2        1       55322        10        30157\n",
       "3        2       55323         4        30151\n",
       "4       10       55331         4        30151"
      ]
     },
     "execution_count": 10,
     "metadata": {},
     "output_type": "execute_result"
    }
   ],
   "source": [
    "df.head()"
   ]
  },
  {
   "cell_type": "code",
   "execution_count": 12,
   "metadata": {},
   "outputs": [],
   "source": [
    "Supp=dict(zip(range(1,11), Sup))\n",
    "Prod=dict(zip(range(1,11), Pro))\n",
    "#Dates                         \n",
    "frmdt = pd.date_range('1/1/2017', periods=500, freq='D')\n",
    "todt = pd.date_range('1/1/2019', periods=500, freq='D')\n",
    "df['Product']=df['Product'].map(Prod)\n",
    "df['Location']=df['Supplier'].map(location)\n",
    "df['Supplier']=df['Supplier'].map(Supp)\n",
    "df['Unit_Price']=df['Product_ID'].map(price)\n",
    "df['Currency']=df['Location'].map(currency)\n",
    "df['Quantity']=df['Product_ID'].map(quantity)\n",
    "df['Metric']=df['Currency'].map(metric)\n",
    "df['Quated_Price']=df.apply(lambda row: np.random.randint(row.Unit_Price-3,row.Unit_Price) * np.random.randint(row.Quantity-15,row.Quantity-5), axis=1)\n",
    "df[\"Valid_From\"]=(pd.to_datetime((np.random.choice(frmdt, size=500, replace=False))))\n",
    "df[\"Valid_To\"]=(pd.to_datetime((np.random.choice(todt, size=500, replace=False))))\n",
    "#df['Status']="
   ]
  },
  {
   "cell_type": "code",
   "execution_count": 13,
   "metadata": {},
   "outputs": [],
   "source": [
    "#for i in Sup:\n",
    "    #print(df.loc[df['Supplier']== i,\"Product\"].unique())"
   ]
  },
  {
   "cell_type": "code",
   "execution_count": 14,
   "metadata": {},
   "outputs": [
    {
     "data": {
      "text/html": [
       "<div>\n",
       "<style>\n",
       "    .dataframe thead tr:only-child th {\n",
       "        text-align: right;\n",
       "    }\n",
       "\n",
       "    .dataframe thead th {\n",
       "        text-align: left;\n",
       "    }\n",
       "\n",
       "    .dataframe tbody tr th {\n",
       "        vertical-align: top;\n",
       "    }\n",
       "</style>\n",
       "<table border=\"1\" class=\"dataframe\">\n",
       "  <thead>\n",
       "    <tr style=\"text-align: right;\">\n",
       "      <th></th>\n",
       "      <th>Product</th>\n",
       "      <th>Product_ID</th>\n",
       "      <th>Supplier</th>\n",
       "      <th>Supplier_ID</th>\n",
       "      <th>Location</th>\n",
       "      <th>Unit_Price</th>\n",
       "      <th>Currency</th>\n",
       "      <th>Quantity</th>\n",
       "      <th>Metric</th>\n",
       "      <th>Quated_Price</th>\n",
       "      <th>Valid_From</th>\n",
       "      <th>Valid_To</th>\n",
       "    </tr>\n",
       "  </thead>\n",
       "  <tbody>\n",
       "    <tr>\n",
       "      <th>0</th>\n",
       "      <td>Chlorine Gas</td>\n",
       "      <td>55331</td>\n",
       "      <td>Ppg Industries Inc</td>\n",
       "      <td>30156</td>\n",
       "      <td>UK</td>\n",
       "      <td>23</td>\n",
       "      <td>EUR</td>\n",
       "      <td>1223</td>\n",
       "      <td>Pound</td>\n",
       "      <td>26620</td>\n",
       "      <td>2017-06-19</td>\n",
       "      <td>2020-04-16</td>\n",
       "    </tr>\n",
       "    <tr>\n",
       "      <th>1</th>\n",
       "      <td>Zinc White</td>\n",
       "      <td>55326</td>\n",
       "      <td>Ingersoll-rand Plc</td>\n",
       "      <td>30148</td>\n",
       "      <td>USA</td>\n",
       "      <td>24</td>\n",
       "      <td>USD</td>\n",
       "      <td>1410</td>\n",
       "      <td>Pound</td>\n",
       "      <td>32177</td>\n",
       "      <td>2018-03-22</td>\n",
       "      <td>2019-08-06</td>\n",
       "    </tr>\n",
       "    <tr>\n",
       "      <th>2</th>\n",
       "      <td>Rosin Soap</td>\n",
       "      <td>55322</td>\n",
       "      <td>Carlisle Companies Incorporated</td>\n",
       "      <td>30157</td>\n",
       "      <td>USA</td>\n",
       "      <td>20</td>\n",
       "      <td>USD</td>\n",
       "      <td>177</td>\n",
       "      <td>Pound</td>\n",
       "      <td>3192</td>\n",
       "      <td>2017-01-30</td>\n",
       "      <td>2019-08-24</td>\n",
       "    </tr>\n",
       "    <tr>\n",
       "      <th>3</th>\n",
       "      <td>AKD</td>\n",
       "      <td>55323</td>\n",
       "      <td>Chs Inc.</td>\n",
       "      <td>30151</td>\n",
       "      <td>US</td>\n",
       "      <td>49</td>\n",
       "      <td>USD</td>\n",
       "      <td>206</td>\n",
       "      <td>Pound</td>\n",
       "      <td>9264</td>\n",
       "      <td>2017-08-30</td>\n",
       "      <td>2019-03-02</td>\n",
       "    </tr>\n",
       "    <tr>\n",
       "      <th>4</th>\n",
       "      <td>Chlorine Gas</td>\n",
       "      <td>55331</td>\n",
       "      <td>Chs Inc.</td>\n",
       "      <td>30151</td>\n",
       "      <td>Canada</td>\n",
       "      <td>24</td>\n",
       "      <td>USD</td>\n",
       "      <td>1067</td>\n",
       "      <td>Pound</td>\n",
       "      <td>22134</td>\n",
       "      <td>2017-02-10</td>\n",
       "      <td>2019-09-22</td>\n",
       "    </tr>\n",
       "  </tbody>\n",
       "</table>\n",
       "</div>"
      ],
      "text/plain": [
       "        Product  Product_ID                         Supplier  Supplier_ID  \\\n",
       "0  Chlorine Gas       55331               Ppg Industries Inc        30156   \n",
       "1    Zinc White       55326               Ingersoll-rand Plc        30148   \n",
       "2    Rosin Soap       55322  Carlisle Companies Incorporated        30157   \n",
       "3           AKD       55323                         Chs Inc.        30151   \n",
       "4  Chlorine Gas       55331                         Chs Inc.        30151   \n",
       "\n",
       "  Location  Unit_Price Currency  Quantity Metric  Quated_Price Valid_From  \\\n",
       "0       UK          23      EUR      1223  Pound         26620 2017-06-19   \n",
       "1      USA          24      USD      1410  Pound         32177 2018-03-22   \n",
       "2      USA          20      USD       177  Pound          3192 2017-01-30   \n",
       "3       US          49      USD       206  Pound          9264 2017-08-30   \n",
       "4   Canada          24      USD      1067  Pound         22134 2017-02-10   \n",
       "\n",
       "    Valid_To  \n",
       "0 2020-04-16  \n",
       "1 2019-08-06  \n",
       "2 2019-08-24  \n",
       "3 2019-03-02  \n",
       "4 2019-09-22  "
      ]
     },
     "execution_count": 14,
     "metadata": {},
     "output_type": "execute_result"
    }
   ],
   "source": [
    "df.head()"
   ]
  },
  {
   "cell_type": "code",
   "execution_count": 15,
   "metadata": {},
   "outputs": [],
   "source": [
    "df.to_excel('Sample.xlsx')"
   ]
  },
  {
   "cell_type": "code",
   "execution_count": null,
   "metadata": {},
   "outputs": [],
   "source": []
  },
  {
   "cell_type": "code",
   "execution_count": null,
   "metadata": {},
   "outputs": [],
   "source": [
    "\n"
   ]
  },
  {
   "cell_type": "code",
   "execution_count": null,
   "metadata": {},
   "outputs": [],
   "source": []
  },
  {
   "cell_type": "code",
   "execution_count": null,
   "metadata": {},
   "outputs": [],
   "source": []
  }
 ],
 "metadata": {
  "kernelspec": {
   "display_name": "Python 3",
   "language": "python",
   "name": "python3"
  },
  "language_info": {
   "codemirror_mode": {
    "name": "ipython",
    "version": 3
   },
   "file_extension": ".py",
   "mimetype": "text/x-python",
   "name": "python",
   "nbconvert_exporter": "python",
   "pygments_lexer": "ipython3",
   "version": "3.6.3"
  }
 },
 "nbformat": 4,
 "nbformat_minor": 2
}
